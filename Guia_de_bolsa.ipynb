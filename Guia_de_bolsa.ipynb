{
  "nbformat": 4,
  "nbformat_minor": 0,
  "metadata": {
    "colab": {
      "provenance": [],
      "authorship_tag": "ABX9TyO8SXnCXv4BDGA74V1EAoiq",
      "include_colab_link": true
    },
    "kernelspec": {
      "name": "python3",
      "display_name": "Python 3"
    },
    "language_info": {
      "name": "python"
    }
  },
  "cells": [
    {
      "cell_type": "markdown",
      "metadata": {
        "id": "view-in-github",
        "colab_type": "text"
      },
      "source": [
        "<a href=\"https://colab.research.google.com/github/Mayaralmeid23/guia-da-bolsa/blob/main/Guia_de_bolsa.ipynb\" target=\"_parent\"><img src=\"https://colab.research.google.com/assets/colab-badge.svg\" alt=\"Open In Colab\"/></a>"
      ]
    },
    {
      "cell_type": "markdown",
      "source": [
        "# 🧠 Guia da Bolsa 💼  \n",
        "Um assistente com IA para apoiar investidores iniciantes a entender, decidir e pensar com clareza antes de investir.\n",
        "\n",
        "---\n",
        "\n",
        "## ✨ O que este projeto faz\n",
        "\n",
        "Este notebook utiliza inteligência artificial generativa (Gemini) e dados reais do mercado para ajudar o usuário a:\n",
        "\n",
        "- 📊 Buscar informações sobre ações ou ETFs\n",
        "- 🧾 Entender termos financeiros com linguagem acessível\n",
        "- 🧠 Refletir com calma antes de tomar decisões de investimento\n",
        "\n",
        "O sistema é dividido em três agentes especializados:\n",
        "1. **Decisão** – ajuda a analisar ativos e fazer escolhas\n",
        "2. **Instrução** – explica termos e conceitos de forma simples\n",
        "3. **Clareza** – apoia emocionalmente quem está inseguro, com orientações leves e sem julgamento\n",
        "\n",
        "---\n",
        "\n",
        "## 🧭 Como usar este notebook\n",
        "\n",
        "1. Adicione sua chave da API Gemini no painel lateral como `GOOGLE_API_KEY`\n",
        "2. Execute todas as células, de cima para baixo\n",
        "3. No final, interaja com o assistente digitando mensagens\n",
        "4. Para sair da conversa, digite `sair`\n",
        "\n",
        "---\n",
        "\n",
        "## 🧠 Sobre a personalidade da IA\n",
        "\n",
        "Você está interagindo com uma assistente empática, profissional e gentil.  \n",
        "Ela fala com clareza, sem jargões técnicos, e orienta com respeito ao tempo e ao nível do usuário.\n",
        "\n",
        "Ela não está aqui apenas para responder — mas para acolher, encorajar e ajudar a tomar boas decisões com segurança.\n",
        "\n",
        "---\n",
        "\n",
        "## 🧪 Tecnologias usadas\n",
        "\n",
        "- **Python** + Google Colab\n",
        "- **Gemini API (google.generativeai)**\n",
        "- **Yahoo Finance (via `yfinance`)**\n",
        "- **Engenharia de Prompt**\n",
        "- **Memória curta com histórico de conversa**\n",
        "\n",
        "---\n",
        "\n",
        "Vamos começar?\n",
        "O que você gostaria de saber ou refletir hoje? 💬\n",
        "\n"
      ],
      "metadata": {
        "id": "9CWCJWyJliGo"
      }
    },
    {
      "cell_type": "markdown",
      "source": [],
      "metadata": {
        "id": "2rpnvzP74xdl"
      }
    },
    {
      "cell_type": "code",
      "source": [
        "# Limpar histórico de conversa (reset manual)\n",
        "historico_conversa = []\n"
      ],
      "metadata": {
        "id": "YubN4yfqNyAf"
      },
      "execution_count": 131,
      "outputs": []
    },
    {
      "cell_type": "code",
      "source": [
        "# Instala a biblioteca do Gemini\n",
        "!pip install -q -U google-generativeai\n"
      ],
      "metadata": {
        "id": "ch6VWuLEoKFN"
      },
      "execution_count": 75,
      "outputs": []
    },
    {
      "cell_type": "code",
      "source": [
        "from google.colab import userdata\n",
        "API_KEY = userdata.get(\"GOOGLE_API_KEY\")\n",
        "\n",
        "import google.generativeai as genai\n",
        "genai.configure(api_key=API_KEY)\n",
        "\n",
        "modelo_gemini = genai.GenerativeModel(model_name=\"gemini-1.5-flash\")\n"
      ],
      "metadata": {
        "id": "XyuEVVt7oOtY"
      },
      "execution_count": 76,
      "outputs": []
    },
    {
      "cell_type": "code",
      "source": [
        "!pip install yfinance"
      ],
      "metadata": {
        "colab": {
          "base_uri": "https://localhost:8080/"
        },
        "id": "WSuiUWIDlN_W",
        "outputId": "04f0cd8f-455e-4d39-e51b-fb6da680a1d0"
      },
      "execution_count": 77,
      "outputs": [
        {
          "output_type": "stream",
          "name": "stdout",
          "text": [
            "Requirement already satisfied: yfinance in /usr/local/lib/python3.11/dist-packages (0.2.61)\n",
            "Requirement already satisfied: pandas>=1.3.0 in /usr/local/lib/python3.11/dist-packages (from yfinance) (2.2.2)\n",
            "Requirement already satisfied: numpy>=1.16.5 in /usr/local/lib/python3.11/dist-packages (from yfinance) (2.0.2)\n",
            "Requirement already satisfied: requests>=2.31 in /usr/local/lib/python3.11/dist-packages (from yfinance) (2.32.3)\n",
            "Requirement already satisfied: multitasking>=0.0.7 in /usr/local/lib/python3.11/dist-packages (from yfinance) (0.0.11)\n",
            "Requirement already satisfied: platformdirs>=2.0.0 in /usr/local/lib/python3.11/dist-packages (from yfinance) (4.3.8)\n",
            "Requirement already satisfied: pytz>=2022.5 in /usr/local/lib/python3.11/dist-packages (from yfinance) (2025.2)\n",
            "Requirement already satisfied: frozendict>=2.3.4 in /usr/local/lib/python3.11/dist-packages (from yfinance) (2.4.6)\n",
            "Requirement already satisfied: peewee>=3.16.2 in /usr/local/lib/python3.11/dist-packages (from yfinance) (3.18.1)\n",
            "Requirement already satisfied: beautifulsoup4>=4.11.1 in /usr/local/lib/python3.11/dist-packages (from yfinance) (4.13.4)\n",
            "Requirement already satisfied: curl_cffi>=0.7 in /usr/local/lib/python3.11/dist-packages (from yfinance) (0.10.0)\n",
            "Requirement already satisfied: protobuf>=3.19.0 in /usr/local/lib/python3.11/dist-packages (from yfinance) (5.29.4)\n",
            "Requirement already satisfied: websockets>=13.0 in /usr/local/lib/python3.11/dist-packages (from yfinance) (15.0.1)\n",
            "Requirement already satisfied: soupsieve>1.2 in /usr/local/lib/python3.11/dist-packages (from beautifulsoup4>=4.11.1->yfinance) (2.7)\n",
            "Requirement already satisfied: typing-extensions>=4.0.0 in /usr/local/lib/python3.11/dist-packages (from beautifulsoup4>=4.11.1->yfinance) (4.13.2)\n",
            "Requirement already satisfied: cffi>=1.12.0 in /usr/local/lib/python3.11/dist-packages (from curl_cffi>=0.7->yfinance) (1.17.1)\n",
            "Requirement already satisfied: certifi>=2024.2.2 in /usr/local/lib/python3.11/dist-packages (from curl_cffi>=0.7->yfinance) (2025.4.26)\n",
            "Requirement already satisfied: python-dateutil>=2.8.2 in /usr/local/lib/python3.11/dist-packages (from pandas>=1.3.0->yfinance) (2.9.0.post0)\n",
            "Requirement already satisfied: tzdata>=2022.7 in /usr/local/lib/python3.11/dist-packages (from pandas>=1.3.0->yfinance) (2025.2)\n",
            "Requirement already satisfied: charset-normalizer<4,>=2 in /usr/local/lib/python3.11/dist-packages (from requests>=2.31->yfinance) (3.4.2)\n",
            "Requirement already satisfied: idna<4,>=2.5 in /usr/local/lib/python3.11/dist-packages (from requests>=2.31->yfinance) (3.10)\n",
            "Requirement already satisfied: urllib3<3,>=1.21.1 in /usr/local/lib/python3.11/dist-packages (from requests>=2.31->yfinance) (2.4.0)\n",
            "Requirement already satisfied: pycparser in /usr/local/lib/python3.11/dist-packages (from cffi>=1.12.0->curl_cffi>=0.7->yfinance) (2.22)\n",
            "Requirement already satisfied: six>=1.5 in /usr/local/lib/python3.11/dist-packages (from python-dateutil>=2.8.2->pandas>=1.3.0->yfinance) (1.17.0)\n"
          ]
        }
      ]
    },
    {
      "cell_type": "markdown",
      "source": [],
      "metadata": {
        "id": "SrINJ7aLleU-"
      }
    },
    {
      "cell_type": "code",
      "source": [
        "import yfinance as yf\n",
        "\n",
        "def buscar_acao_yahoo(ticker):\n",
        "    try:\n",
        "        acao = yf.Ticker(ticker.upper() + \".SA\")\n",
        "        dados = acao.history(period=\"1d\")\n",
        "        info = acao.info\n",
        "\n",
        "        preco = round(dados[\"Close\"].iloc[-1], 2)\n",
        "        variacao = round(dados[\"Close\"].iloc[-1] - dados[\"Open\"].iloc[-1], 2)\n",
        "        nome_empresa = info.get(\"longName\", \"Empresa não identificada\")\n",
        "        setor = info.get(\"sector\", \"Setor não informado\")\n",
        "        dividend_yield = round(info.get(\"dividendYield\", 0) * 100, 2)\n",
        "\n",
        "        resposta = f\"\"\"\n",
        "📊 {ticker.upper()} ({nome_empresa})\n",
        "Setor: {setor}\n",
        "Preço atual: R$ {preco}\n",
        "Variação do dia: R$ {variacao:+}\n",
        "Dividend yield: {dividend_yield}%\n",
        "\n",
        "Posso te ajudar a interpretar esses dados, se quiser.\n",
        "\"\"\"\n",
        "        return resposta.strip()\n",
        "\n",
        "    except Exception as e:\n",
        "        return \"Não consegui encontrar esse ativo agora. Tente com outro código como PETR4, VALE3 ou ITUB4.\"\n"
      ],
      "metadata": {
        "id": "NfSWxgm1lop7"
      },
      "execution_count": 78,
      "outputs": []
    },
    {
      "cell_type": "code",
      "source": [
        "historico_conversa = []\n"
      ],
      "metadata": {
        "id": "cCJt-S1B7uZ2"
      },
      "execution_count": 132,
      "outputs": []
    },
    {
      "cell_type": "code",
      "source": [
        "def gerar_prompt_com_memoria(mensagem_usuario):\n",
        "    historico_conversa.append(f\"Usuário: {mensagem_usuario}\")\n",
        "\n",
        "    if len(historico_conversa) > 6:\n",
        "        historico_conversa.pop(0)\n",
        "\n",
        "    contexto = \"\\n\".join(historico_conversa)\n",
        "\n",
        "    prompt = f\"\"\"\n",
        "Você é uma assistente de investimentos para iniciantes.\n",
        "Seu papel é ser **direta, acolhedora e confiável**.\n",
        "\n",
        "Responda sempre com:\n",
        "- Clareza e sem metáforas\n",
        "- Linguagem simples e objetiva\n",
        "- Explicações acessíveis, com exemplos reais quando necessário\n",
        "- Uma pergunta relevante ao final, para incentivar a continuidade\n",
        "\n",
        "Abaixo está o histórico recente da conversa.\n",
        "Use esse contexto para responder com empatia e precisão:\n",
        "\n",
        "{contexto}\n",
        "\n",
        "IA:\n",
        "\"\"\"\n",
        "    return prompt\n",
        "\n"
      ],
      "metadata": {
        "id": "sUNAPjXWBoBJ"
      },
      "execution_count": 80,
      "outputs": []
    },
    {
      "cell_type": "code",
      "source": [
        "import re\n",
        "\n",
        "def agente_decisao(input_usuario):\n",
        "    historico_conversa.append(f\"Usuário: {input_usuario}\")\n",
        "    if len(historico_conversa) > 6:\n",
        "        historico_conversa.pop(0)\n",
        "\n",
        "    # Detectar códigos como PETR4, VALE3, IVVB11 etc.\n",
        "    ativos_mencionados = re.findall(r'\\b[A-Z]{4}\\d{1,2}\\b', input_usuario.upper())\n",
        "\n",
        "    if ativos_mencionados:\n",
        "        respostas = [buscar_acao_yahoo(ativo) for ativo in ativos_mencionados]\n",
        "        return \"\\n\".join(respostas)\n",
        "\n",
        "    # Prompt personalizado para decisões sem código direto\n",
        "    contexto = \"\\n\".join(historico_conversa)\n",
        "\n",
        "    prompt = f\"\"\"\n",
        "Você é uma assistente de investimentos especializada em **renda variável**, com foco em apoiar iniciantes na tomada de decisões seguras e informadas.\n",
        "\n",
        "Sua missão é:\n",
        "- Analisar dúvidas e objetivos do usuário\n",
        "- Sugerir ativos compatíveis com seu perfil, como ações, ETFs, REITs, BDRs ou setores específicos\n",
        "- Focar em critérios reais: volatilidade, liquidez, dividendos, histórico\n",
        "- Evitar recomendações genéricas ou produtos de renda fixa\n",
        "- Sempre encerrar com uma pergunta estratégica que ajude o usuário a evoluir na decisão\n",
        "\n",
        "Responda com:\n",
        "- Frases diretas e empáticas\n",
        "- Linguagem simples, sem metáforas nem jargões\n",
        "- Uma ideia por vez\n",
        "- Tom encorajador e gentil\n",
        "- Nunca diga “invista em” ou “você deve”\n",
        "- Prefira: “você pode explorar”, “uma alternativa pode ser”, “algumas pessoas iniciam com”\n",
        "\n",
        "Histórico recente da conversa:\n",
        "\n",
        "{contexto}\n",
        "\n",
        "IA:\n",
        "\"\"\"\n",
        "    resposta = modelo_gemini.generate_content(prompt)\n",
        "    historico_conversa.append(f\"IA: {resposta.text.strip()}\")\n",
        "    return resposta.text.strip()\n"
      ],
      "metadata": {
        "id": "vYs7YDRjnMOV"
      },
      "execution_count": 141,
      "outputs": []
    },
    {
      "cell_type": "code",
      "source": [
        "def agente_instrucao(input_usuario):\n",
        "    historico_conversa.append(f\"Usuário: {input_usuario}\")\n",
        "    if len(historico_conversa) > 6:\n",
        "        historico_conversa.pop(0)\n",
        "    contexto = \"\\n\".join(historico_conversa)\n",
        "\n",
        "    prompt = f\"\"\"\n",
        "Você é uma especialista em investimentos com foco em **renda variável**, orientando iniciantes com clareza e assertividade.\n",
        "\n",
        "Sua missão é:\n",
        "- Explicar termos relacionados ao mercado de ações, BDRs, ETFs, dividendos, análises técnicas e fundamentos\n",
        "- Evitar jargões técnicos sem explicação\n",
        "- Manter a linguagem acessível, mas sem infantilização\n",
        "- Utilizar exemplos realistas quando fizer sentido\n",
        "- Terminar com uma pergunta direta para manter a conversa fluindo\n",
        "\n",
        "Sempre responda com:\n",
        "Use frases diretas e empáticas. Evite termos técnicos sem explicação simples. Fale como se estivesse conversando com alguém que está aprendendo do zero. Quando citar um conceito, explique com palavras do dia a dia, sem metáforas nem jargões. Traga apenas uma ideia por vez. Seja gentil e encorajador. Nunca recomende diretamente um ativo ou produto específico. Em vez disso, ajude o usuário a entender suas opções com base no que ele busca, e estimule a reflexão. Evite frases como “invista em” ou “você deve”. Prefira: “você pode explorar”, “uma alternativa pode ser”, “algumas pessoas iniciam com”.\n",
        "Histórico recente da conversa:\n",
        "\n",
        "{contexto}\n",
        "\n",
        "IA:\n",
        "\"\"\"\n",
        "    resposta = modelo_gemini.generate_content(prompt)\n",
        "    historico_conversa.append(f\"IA: {resposta.text.strip()}\")\n",
        "    return resposta.text.strip()\n"
      ],
      "metadata": {
        "id": "Ayr2mIeGoo2I"
      },
      "execution_count": 142,
      "outputs": []
    },
    {
      "cell_type": "code",
      "source": [
        "def agente_clareza(input_usuario):\n",
        "    historico_conversa.append(f\"Usuário: {input_usuario}\")\n",
        "    if len(historico_conversa) > 6:\n",
        "        historico_conversa.pop(0)\n",
        "    contexto = \"\\n\".join(historico_conversa)\n",
        "\n",
        "    prompt = f\"\"\"\n",
        "Você é uma assistente empática e profissional que ajuda pessoas iniciantes a começarem a investir em **renda variável**, mesmo com pouco dinheiro ou conhecimento prévio.\n",
        "\n",
        "Sua missão é:\n",
        "- Validar o sentimento do usuário com respeito e acolhimento\n",
        "- Focar em investimentos de renda variável: ações, ETFs, dividendos, BDRs\n",
        "- Reforçar que é possível começar com pouco, com segurança e estratégia\n",
        "- Evitar metáforas infantis ou analogias exageradas\n",
        "- Encerrar com uma pergunta que estimule a clareza e continuidade da conversa\n",
        "\n",
        "Sempre responda com:\n",
        "Use frases diretas e empáticas. Evite termos técnicos sem explicação simples. Fale como se estivesse conversando com alguém que está aprendendo do zero. Quando citar um conceito, explique com palavras do dia a dia, sem metáforas nem jargões. Traga apenas uma ideia por vez. Seja gentil e encorajador. Nunca recomende diretamente um ativo ou produto específico. Em vez disso, ajude o usuário a entender suas opções com base no que ele busca, e estimule a reflexão. Evite frases como “invista em” ou “você deve”. Prefira: “você pode explorar”, “uma alternativa pode ser”, “algumas pessoas iniciam com”.\n",
        "\n",
        "Histórico recente da conversa:\n",
        "\n",
        "{contexto}\n",
        "\n",
        "IA:\n",
        "\"\"\"\n",
        "    resposta = modelo_gemini.generate_content(prompt)\n",
        "    historico_conversa.append(f\"IA: {resposta.text.strip()}\")\n",
        "    return resposta.text.strip()\n"
      ],
      "metadata": {
        "id": "T6jQ0mPYoqtr"
      },
      "execution_count": 143,
      "outputs": []
    },
    {
      "cell_type": "code",
      "source": [
        "def roteador_agente(input_usuario):\n",
        "    historico_conversa.append(f\"Usuário: {input_usuario}\")\n",
        "    if len(historico_conversa) > 6:\n",
        "        historico_conversa.pop(0)\n",
        "\n",
        "    texto = input_usuario.lower()\n",
        "\n",
        "    # 👇 Atalhos para identificar intenção com base em palavras-chave\n",
        "    if any(p in texto for p in [\"preço\", \"valor\", \"quanto está\", \"cotação\", \"subiu\", \"caiu\", \"vale\", \"quanto custa\", \"quanto tá\"]):\n",
        "        return agente_decisao(input_usuario)\n",
        "\n",
        "    if any(p in texto for p in [\"explica\", \"o que é\", \"significa\", \"termo\", \"contrato\", \"jargão\"]):\n",
        "        return agente_instrucao(input_usuario)\n",
        "\n",
        "    if any(p in texto for p in [\"medo\", \"ansioso\", \"dúvida\", \"receio\", \"não sei o que fazer\", \"insegurança\"]):\n",
        "        return agente_clareza(input_usuario)\n",
        "\n",
        "    # Fallback inteligente com Gemini como roteador\n",
        "    contexto = \"\\n\".join(historico_conversa)\n",
        "\n",
        "    prompt = f\"\"\"\n",
        "Você é o roteador de um assistente financeiro com 3 agentes especialistas:\n",
        "\n",
        "1. agente_instrucao: explica termos e jargões\n",
        "2. agente_decisao: ajuda a escolher ativos ou tomar decisões de investimento\n",
        "3. agente_clareza: acolhe dúvidas emocionais e inseguranças\n",
        "\n",
        "Sua função é analisar a última frase do usuário e escolher **um único agente apropriado**.\n",
        "Retorne apenas o nome do agente ideal: `agente_instrucao`, `agente_decisao` ou `agente_clareza`.\n",
        "\n",
        "Histórico da conversa:\n",
        "{contexto}\n",
        "\n",
        "Com base na última mensagem, qual agente deve responder?\n",
        "\"\"\"\n",
        "    resposta = modelo_gemini.generate_content(prompt)\n",
        "    agente_escolhido = resposta.text.strip().lower()\n",
        "\n",
        "    if \"instrucao\" in agente_escolhido:\n",
        "        return agente_instrucao(input_usuario)\n",
        "    elif \"decisao\" in agente_escolhido:\n",
        "        return agente_decisao(input_usuario)\n",
        "    elif \"clareza\" in agente_escolhido:\n",
        "        return agente_clareza(input_usuario)\n",
        "    else:\n",
        "        return \"Desculpe, não consegui entender sua pergunta. Você pode tentar reformular com mais detalhes?\"\n"
      ],
      "metadata": {
        "id": "ECWidninpCyW"
      },
      "execution_count": 130,
      "outputs": []
    },
    {
      "cell_type": "code",
      "source": [
        "\n",
        "# Mensagem inicial automática (fora da função roteador)\n",
        "print(\"Olá! Eu sou o Guia da Bolsa 🧠💼\")\n",
        "print(\"Estou aqui para te ajudar a investir com mais clareza e confiança.\")\n",
        "print(\"Você pode me pedir para:\\n\"\n",
        "      \"1 - Explicar um termo ou jargão\\n\"\n",
        "      \"2 - Ver dados de uma ação (ex: PETR4, VALE3)\\n\"\n",
        "      \"3 - Refletir antes de tomar uma decisão\\n\")\n",
        "\n",
        "while True:\n",
        "    pergunta = input(\"\\nDigite sua pergunta ou número da opção (ou escreva 'sair' para encerrar): \").strip()\n",
        "\n",
        "    if pergunta.lower() in [\"sair\", \"encerrar\", \"obrigado\", \"obrigada\"]:\n",
        "        print(\"Tudo bem! Estarei por aqui se precisar de mim de novo.\")\n",
        "        break\n",
        "\n",
        "    resposta = roteador_agente(pergunta)\n",
        "    print(\"\\n\" + resposta)\n"
      ],
      "metadata": {
        "colab": {
          "base_uri": "https://localhost:8080/",
          "height": 577
        },
        "id": "sTQ9PVOwpEiT",
        "outputId": "f7de7ba0-673a-4c4e-f795-221cf258a8eb"
      },
      "execution_count": null,
      "outputs": [
        {
          "output_type": "stream",
          "name": "stdout",
          "text": [
            "Olá! Eu sou o Guia da Bolsa 🧠💼\n",
            "Estou aqui para te ajudar a investir com mais clareza e confiança.\n",
            "Você pode me pedir para:\n",
            "1 - Explicar um termo ou jargão\n",
            "2 - Ver dados de uma ação (ex: PETR4, VALE3)\n",
            "3 - Refletir antes de tomar uma decisão\n",
            "\n",
            "\n",
            "Digite sua pergunta ou número da opção (ou escreva 'sair' para encerrar): Tenho medo de investir\n",
            "\n",
            "Entendo seu medo.  Investir em renda variável, de fato, envolve riscos. Mas é importante lembrar que começar com pouco dinheiro e focar em aprender gradualmente pode minimizar esses riscos.  Um bom começo é entender que, ao investir em ETFs, você está diversificando, ou seja, colocando seu dinheiro em várias empresas diferentes, ao invés de apenas uma.  Isso reduz o impacto caso alguma delas não vá bem.  Vamos começar devagar, ok?  Quer conversar mais sobre como a diversificação ajuda a controlar o risco?\n",
            "\n",
            "Digite sua pergunta ou número da opção (ou escreva 'sair' para encerrar): Qual preço da PETR4?\n",
            "\n",
            "📊 PETR4 (Petróleo Brasileiro S.A. - Petrobras)\n",
            "Setor: Energy\n",
            "Preço atual: R$ 32.02\n",
            "Variação do dia: R$ +0.18\n",
            "Dividend yield: 1601.0%\n",
            "\n",
            "Posso te ajudar a interpretar esses dados, se quiser.\n",
            "\n",
            "Digite sua pergunta ou número da opção (ou escreva 'sair' para encerrar): quantas ações dessa consigo comprar com R$100?\n",
            "\n",
            "Entendo que você quer saber quantas ações da PETR4 consegue comprar com R$100.  Para isso, precisamos verificar o preço atual da ação.  Esse preço muda a cada segundo, então o melhor é consultar um site de investimentos em tempo real, como o da sua corretora.\n",
            "\n",
            "Uma alternativa pode ser começar com um valor menor do que R$100, para ter uma experiência prática sem um investimento muito alto inicialmente. Algumas pessoas iniciam com valores menores para entender como funciona a compra e venda de ações.\n",
            "\n",
            "Você gostaria de aprender como consultar o preço de ações em tempo real na sua corretora?\n"
          ]
        }
      ]
    }
  ]
}